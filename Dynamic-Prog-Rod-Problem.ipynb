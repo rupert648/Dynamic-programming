{
 "cells": [
  {
   "cell_type": "markdown",
   "metadata": {},
   "source": [
    "# Dynamic Programming Practice Question 1\n",
    "* given a rod of length n and list of prices of rod of length i where 1<= i <= n, find the optimal way to cut rod into smaller rods in order to maximize profit"
   ]
  },
  {
   "cell_type": "markdown",
   "metadata": {},
   "source": [
    "#### Imports"
   ]
  },
  {
   "cell_type": "code",
   "execution_count": 28,
   "metadata": {},
   "outputs": [],
   "source": [
    "import random\n",
    "random.seed(20)"
   ]
  },
  {
   "cell_type": "markdown",
   "metadata": {},
   "source": [
    "#### Variables"
   ]
  },
  {
   "cell_type": "code",
   "execution_count": 29,
   "metadata": {},
   "outputs": [],
   "source": [
    "rodLength = 6;\n",
    "pricerange = 20"
   ]
  },
  {
   "cell_type": "markdown",
   "metadata": {},
   "source": [
    "#### Algorithm\n",
    "* current the prices are defined with a random number generator"
   ]
  },
  {
   "cell_type": "code",
   "execution_count": 30,
   "metadata": {},
   "outputs": [],
   "source": [
    "lengthArray = []\n",
    "profit = []\n",
    "optimalLengths = []\n",
    "\n",
    "for j in range(rodLength):\n",
    "    lengthArray.append(j+1)\n",
    "for j in range(rodLength+1):\n",
    "    profit.append(0)\n",
    "    optimalLengths.append('')\n",
    "lengthPrices = []\n",
    "\n",
    "myList = []\n",
    "for j in range(rodLength+1):\n",
    "    myList.append(j)\n",
    "    "
   ]
  },
  {
   "cell_type": "code",
   "execution_count": 31,
   "metadata": {},
   "outputs": [
    {
     "data": {
      "text/plain": [
       "[0, 1, 2, 3, 4, 5, 6]"
      ]
     },
     "execution_count": 31,
     "metadata": {},
     "output_type": "execute_result"
    }
   ],
   "source": [
    "myList = []\n"
   ]
  },
  {
   "cell_type": "code",
   "execution_count": 32,
   "metadata": {},
   "outputs": [
    {
     "name": "stdout",
     "output_type": "stream",
     "text": [
      "Lengths:               [1, 2, 3, 4, 5, 6]\n",
      "Price of Each Length:  [3, 2, 9, 2, 7, 2]\n",
      "Optimal Cut Lengths:   1, 1, 1, 1, 1, 1, \n",
      "Total Profit:          18\n"
     ]
    }
   ],
   "source": [
    "def maximizeProf(length, price):\n",
    "    for l, p in zip(length, price):\n",
    "        for currentNumb in range(len(myList)):\n",
    "            if l <= currentNumb:\n",
    "                #print('length, price, currentNumb: ', l, p, currentNumb)\n",
    "                x = p + profit[currentNumb-l]\n",
    "                if (x>profit[currentNumb]):\n",
    "                    profit[currentNumb] = x\n",
    "                    optimalLengths[currentNumb] = str(l) + ', ' + optimalLengths[currentNumb-l]\n",
    "            #for money in profit:\n",
    "                #print(money)\n",
    "    print('Lengths:              ',lengthArray)\n",
    "    print('Price of Each Length: ',lengthPrices)\n",
    "    print('Optimal Cut Lengths:  ',optimalLengths[rodLength])\n",
    "    print('Total Profit:          '+str(profit[rodLength]))\n",
    "    \n",
    "maximizeProf(lengthArray, lengthPrices)"
   ]
  },
  {
   "cell_type": "code",
   "execution_count": null,
   "metadata": {},
   "outputs": [],
   "source": []
  },
  {
   "cell_type": "markdown",
   "metadata": {},
   "source": []
  },
  {
   "cell_type": "code",
   "execution_count": null,
   "metadata": {},
   "outputs": [],
   "source": []
  }
 ],
 "metadata": {
  "kernelspec": {
   "display_name": "Python 3",
   "language": "python",
   "name": "python3"
  },
  "language_info": {
   "codemirror_mode": {
    "name": "ipython",
    "version": 3
   },
   "file_extension": ".py",
   "mimetype": "text/x-python",
   "name": "python",
   "nbconvert_exporter": "python",
   "pygments_lexer": "ipython3",
   "version": "3.7.3"
  }
 },
 "nbformat": 4,
 "nbformat_minor": 2
}
