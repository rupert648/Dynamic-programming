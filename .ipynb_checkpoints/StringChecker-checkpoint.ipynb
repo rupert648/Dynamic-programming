{
 "cells": [
  {
   "cell_type": "markdown",
   "metadata": {},
   "source": [
    "# Dynamic Programming Question 2 - Word Break Problem"
   ]
  },
  {
   "cell_type": "code",
   "execution_count": 26,
   "metadata": {},
   "outputs": [],
   "source": [
    "dictionary = 'hello my name is'.split(' ')\n",
    "string = 'mynameishello'\n",
    "splitwords = []"
   ]
  },
  {
   "cell_type": "markdown",
   "metadata": {},
   "source": [
    "# First solution"
   ]
  },
  {
   "cell_type": "code",
   "execution_count": 27,
   "metadata": {},
   "outputs": [
    {
     "name": "stdout",
     "output_type": "stream",
     "text": [
      "mynameishello\n",
      "mynameis\n",
      "nameis\n",
      "is\n",
      "True\n",
      "['hello', 'my', 'name', 'is']\n"
     ]
    }
   ],
   "source": [
    "def stringChecker(dictwords, stringwords):\n",
    "    counter = 0\n",
    "    while counter <= len(dictwords):\n",
    "        for word in dict:\n",
    "            print(stringwords)\n",
    "            if word in stringwords:\n",
    "                counter=0\n",
    "                splitwords.append(word)\n",
    "                stringwords = stringwords.replace(word,'',1)\n",
    "            counter = counter+1\n",
    "            if stringwords == '':\n",
    "                return True\n",
    "    return False\n",
    "\n",
    "if stringChecker(dictionary, string):\n",
    "    print('True')\n",
    "    print(splitwords)\n",
    "else:\n",
    "    print('False')"
   ]
  },
  {
   "cell_type": "markdown",
   "metadata": {},
   "source": [
    "Although this solution works to some extent, it is neither dynamic programming or recursion.\n",
    "This is an optimal solution for checking whether the case is true (the case being whether or not the given string can be divided up into words from the dictionary) however\n",
    "fails to output the seperated words into the order in which they were in the original string.\n",
    "This solution also makes use of the python built in 'in' function in the 'for' loop. To me this feels like a get around of the original problem, and as such the next solution\n",
    "tries to solve the problem without making use of this."
   ]
  },
  {
   "cell_type": "markdown",
   "metadata": {},
   "source": [
    "# Second solution\n",
    "* Solved by recursion"
   ]
  },
  {
   "cell_type": "code",
   "execution_count": 188,
   "metadata": {},
   "outputs": [],
   "source": [
    "dictionary = 'hello my name is'.split(' ')\n",
    "string = 'mynameisrupertcarr'\n",
    "splitwords = []"
   ]
  },
  {
   "cell_type": "code",
   "execution_count": 189,
   "metadata": {},
   "outputs": [
    {
     "name": "stdout",
     "output_type": "stream",
     "text": [
      "m\n",
      "my\n",
      "myn\n",
      "myna\n",
      "mynam\n",
      "myname\n",
      "mynamei\n",
      "mynameis\n",
      "mynameisr\n",
      "mynameisru\n",
      "mynameisrup\n",
      "mynameisrupe\n",
      "mynameisruper\n",
      "mynameisrupert\n",
      "mynameisrupertc\n",
      "mynameisrupertca\n",
      "mynameisrupertcar\n",
      "mynameisrupertcarr\n"
     ]
    }
   ],
   "source": [
    "for i in range(len(string)):\n",
    "    print(string[0:i+1])"
   ]
  },
  {
   "cell_type": "code",
   "execution_count": 191,
   "metadata": {},
   "outputs": [
    {
     "name": "stdout",
     "output_type": "stream",
     "text": [
      "no split\n",
      "['my', 'name', 'is', 'my', 'name', 'is']\n",
      "CPU times: user 223 µs, sys: 56 µs, total: 279 µs\n",
      "Wall time: 234 µs\n"
     ]
    }
   ],
   "source": [
    "%%time\n",
    "def stringChecker3(dictionary, string):\n",
    "    contained=False\n",
    "    temp = string\n",
    "    for i in range(len(string)):\n",
    "        for word in dictionary:\n",
    "            if string[0:i+1] == word:\n",
    "                splitwords.append(word)\n",
    "                string = string[i+1:]\n",
    "                contained = True\n",
    "            if contained:\n",
    "                break\n",
    "        if contained:\n",
    "            break\n",
    "    if string == temp:\n",
    "        print('no split')\n",
    "    elif string != '':\n",
    "        stringChecker3(dictionary, string)\n",
    "\n",
    "stringChecker3(dictionary, string)\n",
    "\n",
    "print(splitwords)"
   ]
  },
  {
   "cell_type": "code",
   "execution_count": null,
   "metadata": {},
   "outputs": [],
   "source": []
  },
  {
   "cell_type": "code",
   "execution_count": null,
   "metadata": {},
   "outputs": [],
   "source": []
  },
  {
   "cell_type": "code",
   "execution_count": null,
   "metadata": {},
   "outputs": [],
   "source": []
  }
 ],
 "metadata": {
  "kernelspec": {
   "display_name": "Python 3",
   "language": "python",
   "name": "python3"
  },
  "language_info": {
   "codemirror_mode": {
    "name": "ipython",
    "version": 3
   },
   "file_extension": ".py",
   "mimetype": "text/x-python",
   "name": "python",
   "nbconvert_exporter": "python",
   "pygments_lexer": "ipython3",
   "version": "3.7.3"
  }
 },
 "nbformat": 4,
 "nbformat_minor": 2
}
