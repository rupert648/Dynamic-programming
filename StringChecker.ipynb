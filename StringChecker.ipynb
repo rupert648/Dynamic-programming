{
 "cells": [
  {
   "cell_type": "markdown",
   "metadata": {},
   "source": [
    "# Dynamic Programming Question 2 - String Checker"
   ]
  },
  {
   "cell_type": "code",
   "execution_count": 19,
   "metadata": {},
   "outputs": [],
   "source": [
    "dictionary = 'hello my name is'.split(' ')\n",
    "string = 'mynamehellomy'\n",
    "splitwords = []"
   ]
  },
  {
   "cell_type": "code",
   "execution_count": 21,
   "metadata": {},
   "outputs": [
    {
     "name": "stdout",
     "output_type": "stream",
     "text": [
      "mynamehellomy\n",
      "mynamemy\n",
      "namemy\n",
      "my\n",
      "my\n",
      "my\n",
      "True\n",
      "['hello', 'my', 'name', 'my', 'hello', 'my', 'name', 'my']\n"
     ]
    }
   ],
   "source": [
    "def stringChecker(dictwords, stringwords):\n",
    "    counter = 0\n",
    "    while counter <= len(dictwords):\n",
    "        for word in dict:\n",
    "            print(stringwords)\n",
    "            if word in stringwords:\n",
    "                counter=0\n",
    "                splitwords.append(word)\n",
    "                stringwords = stringwords.replace(word,'',1)\n",
    "            counter = counter+1\n",
    "            if stringwords == '':\n",
    "                return True\n",
    "\n",
    "    return False\n",
    "\n",
    "if stringChecker(dictionary, string):\n",
    "    print('True')\n",
    "    print(splitwords)\n",
    "else:\n",
    "    print('False')"
   ]
  },
  {
   "cell_type": "code",
   "execution_count": null,
   "metadata": {},
   "outputs": [],
   "source": []
  }
 ],
 "metadata": {
  "kernelspec": {
   "display_name": "Python 3",
   "language": "python",
   "name": "python3"
  },
  "language_info": {
   "codemirror_mode": {
    "name": "ipython",
    "version": 3
   },
   "file_extension": ".py",
   "mimetype": "text/x-python",
   "name": "python",
   "nbconvert_exporter": "python",
   "pygments_lexer": "ipython3",
   "version": "3.7.3"
  }
 },
 "nbformat": 4,
 "nbformat_minor": 2
}
