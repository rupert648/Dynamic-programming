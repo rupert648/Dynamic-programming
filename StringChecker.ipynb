{
 "cells": [
  {
   "cell_type": "markdown",
   "metadata": {},
   "source": [
    "# Dynamic Programming Question 2 - Word Break Problem"
   ]
  },
  {
   "cell_type": "code",
   "execution_count": 22,
   "metadata": {},
   "outputs": [],
   "source": [
    "dictionary = 'hello my name is'.split(' ')\n",
    "string = 'mynameishello'\n",
    "splitwords = []"
   ]
  },
  {
   "cell_type": "markdown",
   "metadata": {},
   "source": [
    "# First solution"
   ]
  },
  {
   "cell_type": "code",
   "execution_count": 23,
   "metadata": {},
   "outputs": [
    {
     "name": "stdout",
     "output_type": "stream",
     "text": [
      "True\n",
      "['hello', 'my', 'name', 'is']\n",
      "CPU times: user 254 µs, sys: 179 µs, total: 433 µs\n",
      "Wall time: 295 µs\n"
     ]
    }
   ],
   "source": [
    "%%time\n",
    "def stringChecker(dictwords, stringwords):\n",
    "    counter = 0\n",
    "    while counter <= len(dictwords):\n",
    "        for word in dictwords:\n",
    "            if word in stringwords:\n",
    "                counter=0\n",
    "                splitwords.append(word)\n",
    "                stringwords = stringwords.replace(word,'',1)\n",
    "            counter = counter+1\n",
    "            if stringwords == '':\n",
    "                return True\n",
    "    return False\n",
    "\n",
    "if stringChecker(dictionary, string):\n",
    "    print('True')\n",
    "    print(splitwords)\n",
    "else:\n",
    "    print('False')"
   ]
  },
  {
   "cell_type": "markdown",
   "metadata": {},
   "source": [
    "Although this solution works to some extent, it is neither dynamic programming or recursion.\n",
    "This is an optimal solution for checking whether the case is true (the case being whether or not the given string can be divided up into words from the dictionary) however\n",
    "fails to output the seperated words into the order in which they were in the original string.\n",
    "This solution also makes use of the python built in 'in' function in the 'for' loop. To me this feels like a get around of the original problem, and as such the next solution\n",
    "tries to solve the problem without making use of this."
   ]
  },
  {
   "cell_type": "markdown",
   "metadata": {},
   "source": [
    "# Second solution\n",
    "* Solved by recursion"
   ]
  },
  {
   "cell_type": "code",
   "execution_count": 25,
   "metadata": {},
   "outputs": [],
   "source": [
    "dictionary = 'hello my name is'.split(' ')\n",
    "string = 'mynameishello'\n",
    "splitwords = []"
   ]
  },
  {
   "cell_type": "code",
   "execution_count": 15,
   "metadata": {},
   "outputs": [
    {
     "name": "stdout",
     "output_type": "stream",
     "text": [
      "['my', 'name', 'is', 'hello']\n",
      "CPU times: user 221 µs, sys: 90 µs, total: 311 µs\n",
      "Wall time: 286 µs\n"
     ]
    }
   ],
   "source": [
    "%%time\n",
    "def stringChecker2(dictionary, string):\n",
    "    contained=False\n",
    "    temp = string\n",
    "    for i in range(len(string)):\n",
    "        for word in dictionary:\n",
    "            if string[0:i+1] == word:\n",
    "                splitwords.append(word)\n",
    "                string = string[i+1:]\n",
    "                contained = True\n",
    "            if contained:\n",
    "                break\n",
    "        if contained:\n",
    "            break\n",
    "    if string == temp:\n",
    "        print('no split')\n",
    "    elif string != '':\n",
    "        stringChecker2(dictionary, string)\n",
    "\n",
    "stringChecker2(dictionary, string)\n",
    "\n",
    "print(splitwords)"
   ]
  },
  {
   "cell_type": "markdown",
   "metadata": {},
   "source": [
    "This solution produces an output in the correct format, without the use of built in functions such as replace and 'in'. Producing a much more elegant solution. We can also see that the run time of this second solution is over twice the speed of the first solution."
   ]
  },
  {
   "cell_type": "markdown",
   "metadata": {},
   "source": [
    "we can test this below"
   ]
  },
  {
   "cell_type": "code",
   "execution_count": 24,
   "metadata": {},
   "outputs": [
    {
     "name": "stdout",
     "output_type": "stream",
     "text": [
      "1.49 µs ± 33.7 ns per loop (mean ± std. dev. of 7 runs, 1000000 loops each)\n"
     ]
    }
   ],
   "source": [
    "import timeit\n",
    "%timeit stringChecker(dictionary, string)"
   ]
  },
  {
   "cell_type": "code",
   "execution_count": null,
   "metadata": {},
   "outputs": [],
   "source": [
    "%timeit stringChecker3(dictionary, string)"
   ]
  },
  {
   "cell_type": "code",
   "execution_count": null,
   "metadata": {},
   "outputs": [],
   "source": []
  }
 ],
 "metadata": {
  "kernelspec": {
   "display_name": "Python 3",
   "language": "python",
   "name": "python3"
  },
  "language_info": {
   "codemirror_mode": {
    "name": "ipython",
    "version": 3
   },
   "file_extension": ".py",
   "mimetype": "text/x-python",
   "name": "python",
   "nbconvert_exporter": "python",
   "pygments_lexer": "ipython3",
   "version": "3.7.3"
  }
 },
 "nbformat": 4,
 "nbformat_minor": 2
}
